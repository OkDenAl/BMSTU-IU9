{
 "cells": [
  {
   "cell_type": "code",
   "execution_count": 1,
   "id": "8ca1a91a-1f2b-4d55-875b-3d731a100fce",
   "metadata": {},
   "outputs": [
    {
     "data": {
      "text/plain": [
       "generate_matrix (generic function with 1 method)"
      ]
     },
     "execution_count": 1,
     "metadata": {},
     "output_type": "execute_result"
    }
   ],
   "source": [
    "using Random\n",
    "using LinearAlgebra\n",
    "using PyPlot\n",
    "using Distributed\n",
    "\n",
    "function generate_matrix(l, r, n, m)    \n",
    "    return rand(n, m) .* (r - l) .+ l\n",
    "end"
   ]
  },
  {
   "cell_type": "code",
   "execution_count": 23,
   "id": "e46dd753-f659-4eda-9be1-7849bda3fe73",
   "metadata": {},
   "outputs": [
    {
     "data": {
      "text/plain": [
       "my_svd (generic function with 1 method)"
      ]
     },
     "execution_count": 23,
     "metadata": {},
     "output_type": "execute_result"
    }
   ],
   "source": [
    "function my_svd(A)\n",
    "    m, n = size(A)\n",
    "    AtA = A' * A\n",
    "    AAt = A * A'\n",
    "\n",
    "    lambda_v, V = eigen(AtA)\n",
    "    lambda_u, U = eigen(AAt)\n",
    "\n",
    "    sort_idx_v = sortperm(lambda_v, rev=true)\n",
    "    sort_idx_u = sortperm(lambda_u, rev=true)\n",
    "\n",
    "    V = V[:, sort_idx_v]\n",
    "    U = U[:, sort_idx_u]\n",
    "    summ = sqrt.(abs.(lambda_v[sort_idx_v]))\n",
    "\n",
    "    summ_matrix = zeros(Float64, m, n)\n",
    "    for i in 1:min(m, n)\n",
    "        summ_matrix[i, i] = summ[i]\n",
    "    end\n",
    "\n",
    "    return U, summ_matrix, V'\n",
    "end"
   ]
  },
  {
   "cell_type": "code",
   "execution_count": 43,
   "id": "5c4bed80-a425-4fd2-9d73-d00e078bc898",
   "metadata": {},
   "outputs": [
    {
     "name": "stdout",
     "output_type": "stream",
     "text": [
      "Original matrix A:\n",
      "[8.023539727740292 6.041134165824568 4.582375126374348; 8.759084828029236 5.323417130675767 1.8374420040483228; 5.013277704345109 8.952997847163793 5.157555095872759; 9.454929025847155 8.25570066696416 7.08999156357653; 1.2972468475876358 5.0813731318498405 9.433320847177011]\n",
      "\n",
      "Check multiplication matrix A = U*S*V_T:\n",
      "[8.023539727740294 6.041134165824569 4.58237512637435; 8.759084828029238 5.323417130675767 1.837442004048326; 5.0132777043451116 8.952997847163793 5.157555095872762; 9.454929025847159 8.255700666964161 7.089991563576533; 1.297246847587639 5.081373131849841 9.433320847177013]\n"
     ]
    },
    {
     "data": {
      "text/plain": [
       "true"
      ]
     },
     "execution_count": 43,
     "metadata": {},
     "output_type": "execute_result"
    }
   ],
   "source": [
    "# Генерация матрицы\n",
    "A = generate_matrix(1.0, 10.0, 5, 3)\n",
    "U, S, V_T = custom_svd(A)\n",
    "check= U * S * V_T\n",
    "\n",
    "println(\"Original matrix A:\")\n",
    "println(A)\n",
    "\n",
    "println(\"\\nCheck multiplication matrix A = U*S*V_T:\")\n",
    "println(check)\n",
    "\n",
    "isapprox(check,A)"
   ]
  },
  {
   "cell_type": "code",
   "execution_count": null,
   "id": "4ef27c18-97f7-4f24-ab59-d35eeada3d16",
   "metadata": {},
   "outputs": [],
   "source": []
  }
 ],
 "metadata": {
  "kernelspec": {
   "display_name": "Julia 1.10.5",
   "language": "julia",
   "name": "julia-1.10"
  },
  "language_info": {
   "file_extension": ".jl",
   "mimetype": "application/julia",
   "name": "julia",
   "version": "1.10.5"
  }
 },
 "nbformat": 4,
 "nbformat_minor": 5
}
