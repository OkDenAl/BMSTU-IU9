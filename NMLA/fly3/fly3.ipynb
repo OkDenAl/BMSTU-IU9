{
 "cells": [
  {
   "cell_type": "code",
   "execution_count": 27,
   "id": "83e5a986-481a-4373-b012-f8770cabccab",
   "metadata": {},
   "outputs": [
    {
     "data": {
      "text/plain": [
       "gaussian_elimination (generic function with 1 method)"
      ]
     },
     "execution_count": 27,
     "metadata": {},
     "output_type": "execute_result"
    }
   ],
   "source": [
    "function gaussian_elimination(matrix::Matrix, vector::Vector)\n",
    "    n = length(vector)\n",
    "\n",
    "    A = copy(matrix)\n",
    "    b = copy(vector)\n",
    "    \n",
    "    # Прямой ход\n",
    "    for k in 1:n-1\n",
    "        for i in k+1:n\n",
    "            factor = A[i, k] / A[k, k]\n",
    "            A[i, :] -= factor * A[k, :]\n",
    "            b[i] -= factor * b[k]\n",
    "        end\n",
    "    end\n",
    "\n",
    "    # Обратный ход\n",
    "    x = zeros(n)\n",
    "    x[n] = b[n] / A[n, n]\n",
    "    for i in n-1:-1:1\n",
    "        x[i] = (b[i] - dot(A[i, i+1:end], x[i+1:end])) / A[i, i]\n",
    "    end\n",
    "    \n",
    "    return x\n",
    "end"
   ]
  },
  {
   "cell_type": "code",
   "execution_count": 30,
   "id": "2a676e62-de66-4242-a554-2521e5f53e3c",
   "metadata": {},
   "outputs": [
    {
     "name": "stdout",
     "output_type": "stream",
     "text": [
      "Матрица L (julia): [1.0 0.0 0.0; 0.5 1.0 0.0; 0.25 0.16666666666666666 1.0]\n",
      "Матрица U (julia): [4.0 3.0 2.0; 0.0 1.5 0.0; 0.0 0.0 0.5]\n",
      "Матрица L: [1.0 0.0 0.0; 0.5 1.0 0.0; 0.25 0.16666666666666666 1.0]\n",
      "Матрица U: [4.0 3.0 2.0; 0.0 1.5 0.0; 0.0 0.0 0.5]\n",
      "[24.0, 0.0, -1.0]\n",
      "Решение системы LU: [7.0, 0.0, -2.0]\n",
      "Решение системы Гаусс: [7.0, 0.0, -2.0]\n"
     ]
    }
   ],
   "source": [
    "using LinearAlgebra\n",
    "\n",
    "function my_lu_decomposition(A::Matrix)\n",
    "    n = size(A, 1)\n",
    "    L = Matrix{Float64}(I, n, n)\n",
    "    U = copy(A)           \n",
    "\n",
    "    for k in 1:n-1\n",
    "        for i in k+1:n\n",
    "            L[i, k] = U[i, k] / U[k, k]\n",
    "            U[i, k:n] -= L[i, k] * U[k, k:n]\n",
    "        end\n",
    "    end\n",
    "\n",
    "    return L, U\n",
    "end\n",
    "\n",
    "function my_solve_lu(A::Matrix, b::Vector)\n",
    "    L, U = my_lu_decomposition(A)\n",
    "    println(\"Матрица L: \", L)\n",
    "    println(\"Матрица U: \", U)\n",
    "\n",
    "    len_b = size(b,1)\n",
    "    y = zeros(len_b)\n",
    "    for i in 1:len_b\n",
    "        y[i] = (b[i] - dot(L[i, 1:i-1], y[1:i-1]))\n",
    "    end\n",
    "    println(y)\n",
    "\n",
    "    x = zeros(len_b)\n",
    "    for i in len_b:-1:1\n",
    "        x[i] = (y[i] - dot(U[i, i+1:end],x[i+1:end])) / U[i, i]\n",
    "    end\n",
    "    \n",
    "    return x\n",
    "    \n",
    "end\n",
    "\n",
    "\n",
    "A = [4.0 3.0 2.0; 2.0 3.0 1.0; 1.0 1.0 1.0]\n",
    "\n",
    "b = [24.0, 12.0, 5.0]\n",
    "L, U = lu(A).L, lu(A).U\n",
    "println(\"Матрица L (julia): \", L)\n",
    "println(\"Матрица U (julia): \", U)\n",
    "\n",
    "x = my_solve_lu(A, b)\n",
    "println(\"Решение системы LU: \", x)\n",
    "\n",
    "x = gaussian_elimination(A, b)\n",
    "println(\"Решение системы Гаусс: \", x)\n"
   ]
  },
  {
   "cell_type": "code",
   "execution_count": null,
   "id": "76b00f46-aa05-4945-8d0a-40996e8be5e1",
   "metadata": {},
   "outputs": [],
   "source": []
  },
  {
   "cell_type": "code",
   "execution_count": 1,
   "id": "cd7a3f31-259c-48dc-9311-49c99a54e326",
   "metadata": {},
   "outputs": [
    {
     "data": {
      "text/plain": [
       "3×3 Matrix{Int64}:\n",
       " 1  2  3\n",
       " 4  5  6\n",
       " 7  8  9"
      ]
     },
     "execution_count": 1,
     "metadata": {},
     "output_type": "execute_result"
    }
   ],
   "source": []
  }
 ],
 "metadata": {
  "kernelspec": {
   "display_name": "Julia 1.10.5",
   "language": "julia",
   "name": "julia-1.10"
  },
  "language_info": {
   "file_extension": ".jl",
   "mimetype": "application/julia",
   "name": "julia",
   "version": "1.10.5"
  }
 },
 "nbformat": 4,
 "nbformat_minor": 5
}
