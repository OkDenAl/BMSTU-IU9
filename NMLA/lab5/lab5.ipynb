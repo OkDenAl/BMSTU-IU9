{
 "cells": [
  {
   "cell_type": "code",
   "execution_count": 21,
   "id": "ba701c43-337f-4acd-b857-b630d5af5485",
   "metadata": {},
   "outputs": [
    {
     "name": "stdout",
     "output_type": "stream",
     "text": [
      "[9.0, 4.500001124999719, 0.0]\n",
      "4.499998875000281\n",
      "4.499998875000281e-6\n",
      "4.499998875000281\n",
      "4.500001124999719\n",
      "4.500001124999719\n"
     ]
    }
   ],
   "source": [
    "u=9.0\n",
    "R1=1.0\n",
    "R2=1000000.0\n",
    "R3=1.0\n",
    "R4=1.0\n",
    "R5=1.0\n",
    "\n",
    "a = 1.0/R1+1.0/R2+1.0/R3 \n",
    "b = -(1.0/R1+1.0/R2+1.0/R3+1.0/R4+1.0/R5)\n",
    "c = 1/R4 + 1/R5\n",
    "\n",
    "A=[1.0 0.0 -1.0; 0.0 0.0 1.0; a b c]\n",
    "f=[u, 0.0, 0.0]\n",
    "\n",
    "res = A\\f\n",
    "println(res)\n",
    "\n",
    "I1=(res[1]-res[2])/R1\n",
    "I2=(res[1]-res[2])/R2\n",
    "I3=(res[1]-res[2])/R3\n",
    "I4=(res[2]-res[3])/R4\n",
    "I5=(res[2]-res[3])/R5\n",
    "println(I1)\n",
    "println(I2)\n",
    "println(I3)\n",
    "println(I4)\n",
    "println(I5)"
   ]
  }
 ],
 "metadata": {
  "kernelspec": {
   "display_name": "Julia 1.10.5",
   "language": "julia",
   "name": "julia-1.10"
  },
  "language_info": {
   "file_extension": ".jl",
   "mimetype": "application/julia",
   "name": "julia",
   "version": "1.10.5"
  }
 },
 "nbformat": 4,
 "nbformat_minor": 5
}
