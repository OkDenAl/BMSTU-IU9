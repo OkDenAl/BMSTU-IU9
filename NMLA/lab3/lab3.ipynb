{
 "cells": [
  {
   "cell_type": "code",
   "execution_count": 1,
   "id": "cbe69802-1718-4e19-a1b9-336dbc37ee52",
   "metadata": {},
   "outputs": [
    {
     "data": {
      "text/plain": [
       "matrix_norm (generic function with 1 method)"
      ]
     },
     "execution_count": 1,
     "metadata": {},
     "output_type": "execute_result"
    }
   ],
   "source": [
    "using Random\n",
    "using LinearAlgebra\n",
    "\n",
    "function euclidean_norm(vec::Vector)\n",
    "    return sqrt(sum(vec.^2))\n",
    "end\n",
    "\n",
    "function generate_matrix(l::Float64, r::Float64, n::Int)    \n",
    "    return rand(n, n) .* (r - l) .+ l\n",
    "end\n",
    "\n",
    "function generate_vector(l::Float64, r::Float64, n::Int)    \n",
    "    return rand(n) .* (r - l) .+ l\n",
    "end\n",
    "\n",
    "function vector_norm(vec::Vector)\n",
    "    max_elem = argmax(abs.(vec))\n",
    "    return abs(vec[max_elem])\n",
    "end\n",
    "\n",
    "function matrix_norm(matrix::Matrix)\n",
    "    max_norm = -10000000\n",
    "    for i in 1:size(matrix,1)\n",
    "        max_norm = max(sum(abs.(matrix[i,1:end])),max_norm)\n",
    "    end\n",
    "\n",
    "    \n",
    "    return max_norm\n",
    "end\n",
    "\n",
    "t = 15.0 # точность\n",
    "p = 2.0 # основание арифметики\n",
    "\n",
    "function findCondNum(A::Matrix)\n",
    "    mu_a = matrix_norm(A)*matrix_norm(inv(A))\n",
    "    \n",
    "    if mu_a < 100\n",
    "        println(\"Система хорошо обусловлена: коэффициент = $mu_a\")\n",
    "    else\n",
    "        println(\"Система плохо обусловлена: коэффициент = $mu_a\")\n",
    "    end\n",
    "\n",
    "    return mu_a\n",
    "end"
   ]
  },
  {
   "cell_type": "code",
   "execution_count": 55,
   "id": "d02da49d-e66e-4b62-ade8-f0478b2fc20f",
   "metadata": {},
   "outputs": [
    {
     "data": {
      "text/plain": [
       "gaussian_elimination (generic function with 1 method)"
      ]
     },
     "execution_count": 55,
     "metadata": {},
     "output_type": "execute_result"
    }
   ],
   "source": [
    "function gaussian_elimination(matrix::Matrix, vector::Vector)\n",
    "    n = length(vector)\n",
    "\n",
    "    A = copy(matrix)\n",
    "    b = copy(vector)\n",
    "\n",
    "    max_first_step = maximum(abs.(A))\n",
    "    max_growth_coef = -10000000\n",
    "    \n",
    "    # Прямой ход\n",
    "    for k in 1:n-1\n",
    "        for i in k+1:n\n",
    "            factor = A[i, k] / A[k, k]\n",
    "            A[i, 1:end] -= factor * A[k, 1:end]\n",
    "            b[i] -= factor * b[k]\n",
    "        end\n",
    "\n",
    "        max_growth_coef = max(maximum(abs.(A))/max_first_step,max_growth_coef)\n",
    "    end\n",
    "\n",
    "\n",
    "    # Обратный ход\n",
    "    x = zeros(n)\n",
    "    x[n] = b[n] / A[n, n]\n",
    "    for i in n-1:-1:1\n",
    "        x[i] = (b[i] - dot(A[i, i+1:end], x[i+1:end])) / A[i, i]\n",
    "    end\n",
    "    \n",
    "    return x, max_growth_coef\n",
    "end"
   ]
  },
  {
   "cell_type": "code",
   "execution_count": 56,
   "id": "f9d04ba7-e8e8-4482-8361-2196d44a1898",
   "metadata": {},
   "outputs": [
    {
     "name": "stdout",
     "output_type": "stream",
     "text": [
      "Ответ для исходной СЛАУ: [1.000000000000088, 0.9999999999999112]\n",
      "\n",
      "Ответ для возмущенной СЛАУ: [2.9699999999984694, -0.9899999999984539]\n",
      "\n",
      "Система плохо обусловлена: коэффициент = 39601.000000003485\n",
      "\n",
      "Погрешность из-за ошибки входных данных: 1.989999999998365\n",
      "\n",
      "g(A): 1.0\n",
      "\n",
      "Погрешность из-за ошибки вычислений: 2.4170532226564627\n"
     ]
    }
   ],
   "source": [
    "A = [100.0 99.0; 99.0 98.0]\n",
    "f = [199.0; 197.0]\n",
    "res = A \\ f\n",
    "println(\"Ответ для исходной СЛАУ: $res\")\n",
    "\n",
    "A_shifted = [100.0 99.0; 99.0 98.0]\n",
    "f_shifted = [198.99; 197.01]\n",
    "\n",
    "delta_A = A_shifted - A\n",
    "delta_f = f_shifted - f\n",
    "\n",
    "\n",
    "res_shifted = A_shifted \\ f_shifted\n",
    "println(\"\\nОтвет для возмущенной СЛАУ: $res_shifted\\n\")\n",
    "\n",
    "mu_a = findCondNum(A)\n",
    "\n",
    "final = mu_a * (vector_norm(delta_f)/vector_norm(f)+ matrix_norm(delta_A)/matrix_norm(A))\n",
    "println(\"\\nПогрешность из-за ошибки входных данных: $final\")\n",
    "\n",
    "# norm_diff = abs(vector_norm(res_shifted) - vector_norm(res))\n",
    "# println(\"\\nРазность норм результатов: $norm_diff\")\n",
    "\n",
    "res_gauss, max_growth_coef = gaussian_elimination(A,f)\n",
    "println(\"\\ng(A): $max_growth_coef\")\n",
    "\n",
    "final_1 = mu_a * max_growth_coef *  2 * (p ^ (-t))\n",
    "println(\"\\nПогрешность из-за ошибки вычислений: $final_1\")"
   ]
  },
  {
   "cell_type": "code",
   "execution_count": 66,
   "id": "7a415171-45f3-4c4e-aeef-89b0236a3ef9",
   "metadata": {},
   "outputs": [
    {
     "name": "stdout",
     "output_type": "stream",
     "text": [
      "Ответ для исходной СЛАУ: [1.0999999999999999, 0.9000000000000001]\n",
      "\n",
      "Ответ для возмущенной СЛАУ: [1.102578512396694, 0.9010027548209367]\n",
      "\n",
      "Система хорошо обусловлена: коэффициент = 2.081750841750842\n",
      "0.0015081206496519194\n",
      "\n",
      "Погрешность из-за ошибки входных данных: 0.0031395314318747097\n",
      "\n",
      "Разность норм результатов: 0.0025785123966941548\n",
      "\n",
      "g(A): 0.9977004333446325\n",
      "\n",
      "Погрешность из-за ошибки вычислений: 0.0001267678049884258\n"
     ]
    }
   ],
   "source": [
    "A = [503.0 3.0; 251.0 651.0]\n",
    "f = [556.0; 862.0]\n",
    "res = A \\ f\n",
    "println(\"Ответ для исходной СЛАУ: $res\")\n",
    "\n",
    "A_shifted = [503.0 3.0; 251.0 651.0]\n",
    "f_shifted = [557.3; 863.3]\n",
    "\n",
    "delta_A = A_shifted - A\n",
    "delta_f = f_shifted - f\n",
    "\n",
    "\n",
    "res_shifted = A_shifted \\ f_shifted\n",
    "println(\"\\nОтвет для возмущенной СЛАУ: $res_shifted\\n\")\n",
    "\n",
    "mu_a = findCondNum(A)\n",
    "\n",
    "println(vector_norm(delta_f)/vector_norm(f))\n",
    "\n",
    "final = mu_a * (vector_norm(delta_f)/vector_norm(f)+ matrix_norm(delta_A)/matrix_norm(A))\n",
    "println(\"\\nПогрешность из-за ошибки входных данных: $final\")\n",
    "\n",
    "norm_diff = abs(vector_norm(res_shifted) - vector_norm(res))\n",
    "println(\"\\nРазность норм результатов: $norm_diff\")\n",
    "\n",
    "res_gauss, max_growth_coef = gaussian_elimination(A,f)\n",
    "println(\"\\ng(A): $max_growth_coef\")\n",
    "\n",
    "final_1 = mu_a * max_growth_coef *  2 * (p ^ (-t))\n",
    "println(\"\\nПогрешность из-за ошибки вычислений: $final_1\")"
   ]
  },
  {
   "cell_type": "code",
   "execution_count": 70,
   "id": "400ffaaf-f194-4711-8015-4a03550e042e",
   "metadata": {},
   "outputs": [
    {
     "name": "stdout",
     "output_type": "stream",
     "text": [
      "Ответ для исходной СЛАУ: [-0.9160488427460443, -0.9641909167648202, 0.4083543123628254, 0.33367096177319905, -0.6990353836285528]\n",
      "\n",
      "Ответ для возмущенной СЛАУ: [-0.913319484206208, -0.9648703464111907, 0.4093335740180029, 0.33247200236774094, -0.6973088145744273]\n",
      "\n",
      "Система хорошо обусловлена: коэффициент = 10.432947934027986\n",
      "\n",
      "Погрешность из-за ошибки входных данных: 0.025777371151525744\n",
      "\n",
      "Разность норм результатов: 0.0006794296463705773\n",
      "\n",
      "g(A): 8.369884623386278\n",
      "\n",
      "Погрешность из-за ошибки вычислений: 0.013324366834962537\n"
     ]
    }
   ],
   "source": [
    "n=5\n",
    "A = generate_matrix(-10.0,10.0,n)\n",
    "f = generate_vector(-10.0,10.0,n)\n",
    "res = A \\ f\n",
    "println(\"Ответ для исходной СЛАУ: $res\")\n",
    "\n",
    "delta_A = generate_matrix(-0.01,0.01,n)\n",
    "delta_f = generate_vector(-0.01,0.01,n)\n",
    "\n",
    "A_shifted = A + delta_A\n",
    "f_shifted = f + delta_f\n",
    "res_shifted = A_shifted \\ f_shifted\n",
    "println(\"\\nОтвет для возмущенной СЛАУ: $res_shifted\\n\")\n",
    "\n",
    "mu_a = findCondNum(A)\n",
    "final = mu_a * (vector_norm(delta_f)/vector_norm(f)+ matrix_norm(delta_A)/matrix_norm(A))\n",
    "println(\"\\nПогрешность из-за ошибки входных данных: $final\")\n",
    "\n",
    "norm_diff = abs(vector_norm(res_shifted) - vector_norm(res))\n",
    "println(\"\\nРазность норм результатов: $norm_diff\")\n",
    "\n",
    "res_gauss, max_growth_coef = gaussian_elimination(A,f)\n",
    "println(\"\\ng(A): $max_growth_coef\")\n",
    "\n",
    "final_1 = mu_a * max_growth_coef *  n * (p ^ (-t))\n",
    "println(\"\\nПогрешность из-за ошибки вычислений: $final_1\")"
   ]
  }
 ],
 "metadata": {
  "kernelspec": {
   "display_name": "Julia 1.10.5",
   "language": "julia",
   "name": "julia-1.10"
  },
  "language_info": {
   "file_extension": ".jl",
   "mimetype": "application/julia",
   "name": "julia",
   "version": "1.10.5"
  }
 },
 "nbformat": 4,
 "nbformat_minor": 5
}
