{
 "cells": [
  {
   "cell_type": "code",
   "execution_count": 1,
   "id": "80ddc6b2-f9e1-47d7-b856-fc2887d10263",
   "metadata": {},
   "outputs": [],
   "source": [
    "using Random"
   ]
  },
  {
   "cell_type": "code",
   "execution_count": 2,
   "id": "a2cbe5d5-a83d-4805-b38e-1b8cd8071df3",
   "metadata": {},
   "outputs": [
    {
     "data": {
      "text/plain": [
       "generate_rhs_vector (generic function with 1 method)"
      ]
     },
     "execution_count": 2,
     "metadata": {},
     "output_type": "execute_result"
    }
   ],
   "source": [
    "function euclidean_norm(vec::Vector)\n",
    "    return sqrt(sum(vec.^2))\n",
    "end\n",
    "\n",
    "function generate_vector(l::Int, r::Int, n::Int)\n",
    "    return rand(n) .* (r - l) .+ l\n",
    "end\n",
    "\n",
    "function generate_rhs_vector(A, B, C, x)\n",
    "    n = length(x)\n",
    "    d = zeros(n)\n",
    "    d[1] = B[1] * x[1] + C[1] * x[2]\n",
    "    for i in 2:n - 1\n",
    "        d[i] = A[i - 1] * x[i - 1] + B[i] * x[i] + C[i] * x[i + 1]\n",
    "    end\n",
    "    d[n] = A[n - 1] * x[n - 1] + B[n] * x[n]\n",
    "    \n",
    "    return d\n",
    "end"
   ]
  },
  {
   "cell_type": "code",
   "execution_count": 3,
   "id": "7b97f2ba-badb-476b-affc-845e9e9e3b5e",
   "metadata": {},
   "outputs": [
    {
     "data": {
      "text/plain": [
       "progonka (generic function with 1 method)"
      ]
     },
     "execution_count": 3,
     "metadata": {},
     "output_type": "execute_result"
    }
   ],
   "source": [
    "function forward(A, B, C, d)\n",
    "    n = length(d)\n",
    "    alphas = zeros(n)\n",
    "    betas = zeros(n)\n",
    "    alphas[1] = -C[1] / B[1]\n",
    "    betas[1] = d[1] / B[1]\n",
    "    for i in 2:n\n",
    "        if i == n\n",
    "            alphas[i] = 0.0\n",
    "        else\n",
    "            alphas[i] = -C[i] / (alphas[i - 1] * A[i - 1] + B[i])\n",
    "        end\n",
    "        betas[i] = (d[i] - A[i - 1] * betas[i - 1]) / (alphas[i - 1] * A[i - 1] + B[i])\n",
    "    end\n",
    "    \n",
    "    return alphas, betas\n",
    "end\n",
    "\n",
    "\n",
    "function backward(alphas, betas)\n",
    "    n = length(betas)\n",
    "    x = zeros(n)\n",
    "    x[n] = betas[n]\n",
    "    for i in n-1:-1:1\n",
    "        x[i] = alphas[i] * x[i + 1] + betas[i]\n",
    "    end\n",
    "    \n",
    "    return x\n",
    "end\n",
    "\n",
    "function progonka(a, b, c, d)\n",
    "    alphas, betas = forward(a,b,c,d)\n",
    "    return backward(alphas, betas)\n",
    "end"
   ]
  },
  {
   "cell_type": "code",
   "execution_count": 4,
   "id": "753a66ca-947c-4803-9f67-9ae094d360e3",
   "metadata": {},
   "outputs": [
    {
     "name": "stdout",
     "output_type": "stream",
     "text": [
      "Результат метода прогонки: [1.0000000000000007, 0.9999999999999994, 1.0000000000000009, 1.0, 1.0, 1.0, 0.9999999999999998, 1.0, 1.0, 1.0]\n",
      "Погрешность: 1.2609709600486848e-15\n"
     ]
    }
   ],
   "source": [
    "n = 10\n",
    "\n",
    "a = generate_vector(-10,10,n-1)\n",
    "b = generate_vector(-10,10,n)\n",
    "c = generate_vector(-10,10,n-1)\n",
    "x = ones(n)\n",
    "d = generate_rhs_vector(a,b,c,x)\n",
    "\n",
    "res = progonka(a,b,c,d)\n",
    "\n",
    "println(\"Результат метода прогонки: $res\")\n",
    "\n",
    "shift = euclidean_norm(x - res)\n",
    "\n",
    "println(\"Погрешность: $shift\")"
   ]
  }
 ],
 "metadata": {
  "kernelspec": {
   "display_name": "Julia 1.10.5",
   "language": "julia",
   "name": "julia-1.10"
  },
  "language_info": {
   "file_extension": ".jl",
   "mimetype": "application/julia",
   "name": "julia",
   "version": "1.10.5"
  }
 },
 "nbformat": 4,
 "nbformat_minor": 5
}
